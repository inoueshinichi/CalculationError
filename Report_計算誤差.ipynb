{
 "cells": [
  {
   "cell_type": "markdown",
   "metadata": {},
   "source": [
    "# 丸め誤差"
   ]
  },
  {
   "cell_type": "code",
   "execution_count": 1,
   "metadata": {},
   "outputs": [
    {
     "data": {
      "text/plain": [
       "1.0000000000000007"
      ]
     },
     "execution_count": 1,
     "metadata": {},
     "output_type": "execute_result"
    }
   ],
   "source": [
    "s = 0\n",
    "for i in range(1000):\n",
    "    s += 0.001\n",
    "s"
   ]
  },
  {
   "cell_type": "markdown",
   "metadata": {},
   "source": [
    "# 浮動小数点演算の収束条件の設定方法"
   ]
  },
  {
   "cell_type": "code",
   "execution_count": 2,
   "metadata": {},
   "outputs": [
    {
     "name": "stdout",
     "output_type": "stream",
     "text": [
      "0\n",
      "0.1\n",
      "0.2\n",
      "0.30000000000000004\n",
      "0.4\n",
      "0.5\n",
      "0.6\n",
      "0.7\n",
      "0.7999999999999999\n",
      "0.8999999999999999\n"
     ]
    }
   ],
   "source": [
    "eps = 1e-10\n",
    "s = 0\n",
    "while abs(s - 1.0) > eps:\n",
    "    print(s)\n",
    "    s += 0.1"
   ]
  },
  {
   "cell_type": "markdown",
   "metadata": {},
   "source": [
    "# 演算による桁落ち"
   ]
  },
  {
   "cell_type": "markdown",
   "metadata": {},
   "source": [
    "微分\n",
    "\n",
    "$$\n",
    "\\begin{align}\n",
    "    f'(x) &= \\lim_{h \\to 0}\\frac{f(x+h)-f(x)}{h} \\\\\n",
    "    f(x) &= x^{2}のときのx=1で極限を計算してみる。\\\\\n",
    "    &(f'(x)=2x, f'(1)=2)\n",
    "\\end{align}\n",
    "$$"
   ]
  },
  {
   "cell_type": "code",
   "execution_count": 4,
   "metadata": {},
   "outputs": [
    {
     "name": "stdout",
     "output_type": "stream",
     "text": [
      "2.0009999999996975\n",
      "2.000000165480742\n",
      "2.220446049250313\n",
      "0.0\n"
     ]
    }
   ],
   "source": [
    "f = lambda x: x**2\n",
    "df = lambda x,h: (f(x+h) - f(x)) / h\n",
    "print(df(1, 0.001))\n",
    "print(df(1, 1e-10))\n",
    "print(df(1, 1e-15))\n",
    "print(df(1, 1e-20)) \n",
    "# pythonのfloat型は10進数で約17桁なので、それ以上は誤差が生じる\n",
    "# または、絶対値の近い数値の差分を取ることで、有効な桁が失われる桁落ちが発生"
   ]
  },
  {
   "cell_type": "markdown",
   "metadata": {},
   "source": [
    "解決策　→　関数の式がわかっているなら、数値微分はしない。関数の式はわかっているけど、複雑なので微分がめんどくさい場合は、シンボリックな計算ツール(e.g Sympy)を使う"
   ]
  },
  {
   "cell_type": "code",
   "execution_count": 5,
   "metadata": {},
   "outputs": [
    {
     "name": "stdout",
     "output_type": "stream",
     "text": [
      "exp(x**3*cos(log(x)**2))\n"
     ]
    }
   ],
   "source": [
    "import sympy as S\n",
    "S.init_printing()\n",
    "x = S.Symbol(\"x\")\n",
    "f = S.exp(x**3 * S.cos(S.log(x)**2))\n",
    "print(f)"
   ]
  },
  {
   "cell_type": "code",
   "execution_count": 7,
   "metadata": {},
   "outputs": [
    {
     "data": {
      "image/png": "[encoded data removed]",
      "text/latex": [
       "$\\displaystyle \\left(- 2 x^{2} \\log{\\left(x \\right)} \\sin{\\left(\\log{\\left(x \\right)}^{2} \\right)} + 3 x^{2} \\cos{\\left(\\log{\\left(x \\right)}^{2} \\right)}\\right) e^{x^{3} \\cos{\\left(\\log{\\left(x \\right)}^{2} \\right)}}$"
      ],
      "text/plain": [
       "                                                   3    ⎛   2   ⎞\n",
       "⎛     2           ⎛   2   ⎞      2    ⎛   2   ⎞⎞  x ⋅cos⎝log (x)⎠\n",
       "⎝- 2⋅x ⋅log(x)⋅sin⎝log (x)⎠ + 3⋅x ⋅cos⎝log (x)⎠⎠⋅ℯ               "
      ]
     },
     "execution_count": 7,
     "metadata": {},
     "output_type": "execute_result"
    }
   ],
   "source": [
    "# 微分\n",
    "S.diff(f)"
   ]
  },
  {
   "cell_type": "markdown",
   "metadata": {},
   "source": [
    "10進数でfloat型が17桁程度の精度がある→0.001という数字は、\n",
    "1.0000000000000000 x 10^(-3)(1の後に0が16個)くらいの桁まで正しい値で格納されていて、それ以下の桁に誤差が出る"
   ]
  },
  {
   "cell_type": "markdown",
   "metadata": {},
   "source": [
    "### 計算の途中でこの17桁の精度が落ちる場合があるので、要注意！"
   ]
  },
  {
   "cell_type": "markdown",
   "metadata": {},
   "source": [
    "２次方程式　$(x+2)(x+3)=x^{2}+5x+6$"
   ]
  },
  {
   "cell_type": "code",
   "execution_count": 9,
   "metadata": {},
   "outputs": [],
   "source": [
    "import numpy as np\n",
    "\n",
    "# 2次方程式を解く関数\n",
    "def qeq(a, b, c):\n",
    "    d = np.sqrt(b**2 - 4 * a * c)\n",
    "    return ((-b + d) / (2 * a), (-b - d) / (2 * a))"
   ]
  },
  {
   "cell_type": "code",
   "execution_count": 10,
   "metadata": {},
   "outputs": [
    {
     "data": {
      "image/png": "[encoded data removed]",
      "text/latex": [
       "$\\displaystyle \\left( -2.0, \\  -3.0\\right)$"
      ],
      "text/plain": [
       "(-2.0, -3.0)"
      ]
     },
     "execution_count": 10,
     "metadata": {},
     "output_type": "execute_result"
    }
   ],
   "source": [
    "qeq(1, 5, 6)"
   ]
  },
  {
   "cell_type": "markdown",
   "metadata": {},
   "source": [
    "$(x+1)(x+0.000000001)=x^2+1.000000001x+0.000000001$になるはず。。。"
   ]
  },
  {
   "cell_type": "code",
   "execution_count": 12,
   "metadata": {},
   "outputs": [
    {
     "data": {
      "image/png": "[encoded data removed]",
      "text/latex": [
       "$\\displaystyle \\left( -1.0000000272292198e-09, \\  -1.0\\right)$"
      ],
      "text/plain": [
       "(-1.0000000272292198e-09, -1.0)"
      ]
     },
     "execution_count": 12,
     "metadata": {},
     "output_type": "execute_result"
    }
   ],
   "source": [
    "# 数学上の答えは(-0.000000001, -1)\n",
    "qeq(1, 1.000000001, 0.000000001)"
   ]
  },
  {
   "cell_type": "markdown",
   "metadata": {},
   "source": [
    "0.0000000272292198は誤差"
   ]
  },
  {
   "cell_type": "markdown",
   "metadata": {},
   "source": [
    "桁落ち発生！\n",
    "$-b+\\sqrt{b^{2}-4ac}$が0に近いときに起きる現象"
   ]
  },
  {
   "cell_type": "markdown",
   "metadata": {},
   "source": [
    "$\\sqrt{b^{2}-4ac}$に対して$b=-1.000000001$を足し算すると小数第8位まではきえてしまう。"
   ]
  },
  {
   "cell_type": "code",
   "execution_count": 9,
   "metadata": {},
   "outputs": [
    {
     "data": {
      "text/plain": [
       "0.999999999"
      ]
     },
     "execution_count": 9,
     "metadata": {},
     "output_type": "execute_result"
    }
   ],
   "source": [
    "a = np.sqrt(1.000000001**2 - 4 * 1 * 0.000000001)\n",
    "a"
   ]
  },
  {
   "cell_type": "code",
   "execution_count": 14,
   "metadata": {},
   "outputs": [
    {
     "data": {
      "text/plain": [
       "-2.0000000544584395e-09"
      ]
     },
     "execution_count": 14,
     "metadata": {},
     "output_type": "execute_result"
    }
   ],
   "source": [
    "minus_b = -1.000000001\n",
    "minus_b + a # もともと17桁の有効数字が8桁までに桁落ちした。\n",
    "# -0.000000002以降の桁数は信用できない。\n",
    "# ↓ここに表示してある値。 コンピュータはもともと17桁の精度をもつから、\n",
    "# 残りの9桁は適当な値(0とか)が勝手に入る！"
   ]
  },
  {
   "cell_type": "markdown",
   "metadata": {},
   "source": [
    "今回は $0.0000000544584395$は誤差"
   ]
  },
  {
   "cell_type": "markdown",
   "metadata": {},
   "source": [
    "Wikipediaなどで調べると、一般的には正規化までを含めて桁落ちと定義しているようです。\n",
    "つまり、浮動小数点演算で絶対値の近い値を減算→有効数字が減少→空いてしまったビットを0で埋める（正規化）という過程全体を、桁落ちと定義しています。"
   ]
  },
  {
   "cell_type": "markdown",
   "metadata": {},
   "source": [
    "### 演算による桁落ちを回避するように計算式を工夫する\n",
    "bの符号をチェックして先に桁落ちが発生しない式から計算して、もう一方を別の公式から求める"
   ]
  },
  {
   "cell_type": "markdown",
   "metadata": {},
   "source": [
    "$ax^{2}+bx+c=0$の解を$\\alpha,\\beta$とすると\n",
    "\n",
    "$$\n",
    "\\begin{align}\n",
    "    \\alpha &= \\frac{-b-sign(b)\\sqrt{b^{2}-4ac}}{2a} \\\\\n",
    "    \\beta &= \\frac{c}{a\\alpha}\n",
    "\\end{align}\n",
    "$$\n",
    "\n",
    "として解を導く $\\alpha$の解放にsign(b)をいれることで、分子を必ず足し算にすることで、安定した解が求まる。不安定な解は別の方法で計算する"
   ]
  },
  {
   "cell_type": "code",
   "execution_count": 13,
   "metadata": {},
   "outputs": [],
   "source": [
    "def qeq2(a, b, c):\n",
    "    alpha = (-b - np.sign(b) * np.sqrt(b**2 - 4 * a * c)) / (2 * a) # 桁落ちが起きない工夫\n",
    "    beta = c / (a * alpha)\n",
    "    return (alpha, beta)"
   ]
  },
  {
   "cell_type": "markdown",
   "metadata": {},
   "source": [
    "数値的に安定な解放"
   ]
  },
  {
   "cell_type": "code",
   "execution_count": 14,
   "metadata": {},
   "outputs": [
    {
     "data": {
      "image/png": "[encoded data removed]",
      "text/latex": [
       "$\\displaystyle \\left( -3.0, \\  -2.0\\right)$"
      ],
      "text/plain": [
       "(-3.0, -2.0)"
      ]
     },
     "execution_count": 14,
     "metadata": {},
     "output_type": "execute_result"
    }
   ],
   "source": [
    "qeq2(1, 5, 6)"
   ]
  },
  {
   "cell_type": "code",
   "execution_count": 15,
   "metadata": {
    "scrolled": true
   },
   "outputs": [
    {
     "data": {
      "image/png": "[encoded data removed]",
      "text/latex": [
       "$\\displaystyle \\left( -1.0, \\  -1e-09\\right)$"
      ],
      "text/plain": [
       "(-1.0, -1e-09)"
      ]
     },
     "execution_count": 15,
     "metadata": {},
     "output_type": "execute_result"
    }
   ],
   "source": [
    "qeq2(1, 1.000000001, 0.000000001)"
   ]
  },
  {
   "cell_type": "markdown",
   "metadata": {},
   "source": [
    "### その他の誤差として、”情報落ち”がある\n",
    "これは、絶対値の大きな値と小さな値を加減算したときに、小さな値の数値が無視されてしまう現象"
   ]
  },
  {
   "cell_type": "markdown",
   "metadata": {},
   "source": [
    "$$\n",
    "  12345 \\\\\n",
    "+)    0.42313 \\\\\n",
    "  ----- \\\\\n",
    "  12345.42313 \\\\\n",
    "$$\n",
    "絶対値の大きな数値と小さな数値で加減算を行ったとき、小さな数値が計算結果に反映されない"
   ]
  },
  {
   "cell_type": "markdown",
   "metadata": {},
   "source": [
    "### 数値範囲の考慮"
   ]
  },
  {
   "cell_type": "markdown",
   "metadata": {},
   "source": [
    "$$\n",
    "    f(x) = log(1+e^{x}) \\\\\n",
    "    x>>0のとき、f(x) \\approx x\n",
    "$$"
   ]
  },
  {
   "cell_type": "code",
   "execution_count": 16,
   "metadata": {},
   "outputs": [],
   "source": [
    "# softplus関数\n",
    "def softplus(x):\n",
    "    return np.log(1+np.exp(x))"
   ]
  },
  {
   "cell_type": "code",
   "execution_count": 17,
   "metadata": {},
   "outputs": [
    {
     "data": {
      "image/png": "[encoded data removed]",
      "text/latex": [
       "$\\displaystyle 0.31326168751822286$"
      ],
      "text/plain": [
       "0.31326168751822286"
      ]
     },
     "execution_count": 17,
     "metadata": {},
     "output_type": "execute_result"
    }
   ],
   "source": [
    "softplus(-1)"
   ]
  },
  {
   "cell_type": "code",
   "execution_count": 18,
   "metadata": {},
   "outputs": [
    {
     "data": {
      "image/png": "[encoded data removed]",
      "text/latex": [
       "$\\displaystyle 0.6931471805599453$"
      ],
      "text/plain": [
       "0.6931471805599453"
      ]
     },
     "execution_count": 18,
     "metadata": {},
     "output_type": "execute_result"
    }
   ],
   "source": [
    "softplus(0)"
   ]
  },
  {
   "cell_type": "code",
   "execution_count": 19,
   "metadata": {},
   "outputs": [
    {
     "name": "stderr",
     "output_type": "stream",
     "text": [
      "/Users/inoueshinichi/opt/anaconda3/lib/python3.7/site-packages/ipykernel_launcher.py:3: RuntimeWarning: overflow encountered in exp\n",
      "  This is separate from the ipykernel package so we can avoid doing imports until\n"
     ]
    },
    {
     "data": {
      "image/png": "[encoded data removed]",
      "text/latex": [
       "$\\displaystyle inf$"
      ],
      "text/plain": [
       "inf"
      ]
     },
     "execution_count": 19,
     "metadata": {},
     "output_type": "execute_result"
    }
   ],
   "source": [
    "softplus(1000)"
   ]
  },
  {
   "cell_type": "markdown",
   "metadata": {},
   "source": [
    "$f(x)=log(1+e^{x})$が発散するのは$e^{x}$が発散するため"
   ]
  },
  {
   "cell_type": "code",
   "execution_count": 20,
   "metadata": {},
   "outputs": [
    {
     "name": "stderr",
     "output_type": "stream",
     "text": [
      "/Users/inoueshinichi/opt/anaconda3/lib/python3.7/site-packages/ipykernel_launcher.py:1: RuntimeWarning: overflow encountered in exp\n",
      "  \"\"\"Entry point for launching an IPython kernel.\n"
     ]
    },
    {
     "data": {
      "image/png": "[encoded data removed]",
      "text/latex": [
       "$\\displaystyle inf$"
      ],
      "text/plain": [
       "inf"
      ]
     },
     "execution_count": 20,
     "metadata": {},
     "output_type": "execute_result"
    }
   ],
   "source": [
    "np.exp(1000)"
   ]
  },
  {
   "cell_type": "markdown",
   "metadata": {},
   "source": [
    "問題点は$f(x)=log(1+e^{x})$が数学的にPythonの有効数字に収まる範囲だが、計算途中のexp(x)でinfが発生していること"
   ]
  },
  {
   "cell_type": "markdown",
   "metadata": {},
   "source": [
    "### 解決策は計算結果が同等になるように式変形を行い、infを回避する"
   ]
  },
  {
   "cell_type": "markdown",
   "metadata": {},
   "source": [
    "$$\n",
    "\\begin{align}\n",
    "    f(x) &= log{e^{x}(e^{-x}+1)} \\\\\n",
    "    &= loge^{x} + log(e^{-x} + 1) \\\\\n",
    "    &= x + log(e^{-x} + 1)\n",
    "\\end{align}\n",
    "$$"
   ]
  },
  {
   "cell_type": "code",
   "execution_count": 39,
   "metadata": {},
   "outputs": [
    {
     "data": {
      "text/plain": [
       "1000.0"
      ]
     },
     "execution_count": 39,
     "metadata": {},
     "output_type": "execute_result"
    }
   ],
   "source": [
    "def softplus2(x):\n",
    "    return x + np.log(np.exp(-x) + 1)\n",
    "\n",
    "softplus2(1000)"
   ]
  },
  {
   "cell_type": "markdown",
   "metadata": {},
   "source": [
    "今度はxが十分小さい時$e^{-x}$が発散する"
   ]
  },
  {
   "cell_type": "code",
   "execution_count": 41,
   "metadata": {},
   "outputs": [
    {
     "name": "stderr",
     "output_type": "stream",
     "text": [
      "/Users/inoueshinichi/.pyenv/versions/anaconda3-5.0.1/lib/python3.6/site-packages/ipykernel_launcher.py:2: RuntimeWarning: overflow encountered in exp\n",
      "  \n"
     ]
    },
    {
     "data": {
      "text/plain": [
       "inf"
      ]
     },
     "execution_count": 41,
     "metadata": {},
     "output_type": "execute_result"
    }
   ],
   "source": [
    "softplus2(-1000)"
   ]
  },
  {
   "cell_type": "markdown",
   "metadata": {},
   "source": [
    "### softplus + softplus2 = softplus3\n",
    "x=0を境にして、計算が発散しないように異なる計算過程を組み合わせる"
   ]
  },
  {
   "cell_type": "markdown",
   "metadata": {},
   "source": [
    "$$\n",
    "    f(x) = \\begin{cases}\n",
    "        log(1+e^{x}) & (x >= 0) \\\\\n",
    "        x + log(1+e^{-x}) & (x < 0)\n",
    "    \\end{cases}\n",
    "$$"
   ]
  },
  {
   "cell_type": "code",
   "execution_count": 21,
   "metadata": {},
   "outputs": [],
   "source": [
    "def softplus3(x):\n",
    "    return max(0, x) + np.log(1 + np.exp(-abs(x)))"
   ]
  },
  {
   "cell_type": "code",
   "execution_count": 22,
   "metadata": {},
   "outputs": [
    {
     "data": {
      "image/png": "[encoded data removed]",
      "text/latex": [
       "$\\displaystyle 0.31326168751822286$"
      ],
      "text/plain": [
       "0.31326168751822286"
      ]
     },
     "execution_count": 22,
     "metadata": {},
     "output_type": "execute_result"
    }
   ],
   "source": [
    "softplus3(-1)"
   ]
  },
  {
   "cell_type": "code",
   "execution_count": 23,
   "metadata": {},
   "outputs": [
    {
     "data": {
      "image/png": "[encoded data removed]",
      "text/latex": [
       "$\\displaystyle 0.6931471805599453$"
      ],
      "text/plain": [
       "0.6931471805599453"
      ]
     },
     "execution_count": 23,
     "metadata": {},
     "output_type": "execute_result"
    }
   ],
   "source": [
    "softplus3(0)"
   ]
  },
  {
   "cell_type": "code",
   "execution_count": 24,
   "metadata": {},
   "outputs": [
    {
     "data": {
      "image/png": "[encoded data removed]",
      "text/latex": [
       "$\\displaystyle 1000.0$"
      ],
      "text/plain": [
       "1000.0"
      ]
     },
     "execution_count": 24,
     "metadata": {},
     "output_type": "execute_result"
    }
   ],
   "source": [
    "softplus3(1000)"
   ]
  },
  {
   "cell_type": "code",
   "execution_count": 25,
   "metadata": {
    "scrolled": true
   },
   "outputs": [
    {
     "data": {
      "image/png": "[encoded data removed]",
      "text/latex": [
       "$\\displaystyle 0.0$"
      ],
      "text/plain": [
       "0.0"
      ]
     },
     "execution_count": 25,
     "metadata": {},
     "output_type": "execute_result"
    }
   ],
   "source": [
    "softplus3(-1000)"
   ]
  },
  {
   "cell_type": "markdown",
   "metadata": {},
   "source": [
    "### 終了"
   ]
  }
 ],
 "metadata": {
  "kernelspec": {
   "display_name": "Python 3",
   "language": "python",
   "name": "python3"
  },
  "language_info": {
   "codemirror_mode": {
    "name": "ipython",
    "version": 3
   },
   "file_extension": ".py",
   "mimetype": "text/x-python",
   "name": "python",
   "nbconvert_exporter": "python",
   "pygments_lexer": "ipython3",
   "version": "3.7.4"
  }
 },
 "nbformat": 4,
 "nbformat_minor": 2
}
